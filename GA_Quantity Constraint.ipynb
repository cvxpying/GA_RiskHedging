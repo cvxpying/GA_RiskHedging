{
 "cells": [
  {
   "cell_type": "code",
   "execution_count": 13,
   "metadata": {},
   "outputs": [],
   "source": [
    "import pandas as pd\n",
    "import numpy as np\n",
    "import random"
   ]
  },
  {
   "cell_type": "markdown",
   "metadata": {},
   "source": [
    "# 필요 데이터 로드"
   ]
  },
  {
   "cell_type": "code",
   "execution_count": 80,
   "metadata": {},
   "outputs": [
    {
     "data": {
      "text/plain": [
       "(5, 40)"
      ]
     },
     "execution_count": 80,
     "metadata": {},
     "output_type": "execute_result"
    }
   ],
   "source": [
    "avg_returns = pd.read_excel('avg_returns.xlsx')\n",
    "\n",
    "df = avg_returns.copy()\n",
    "\n",
    "df['Date'] = pd.to_datetime(df['Date'])\n",
    "\n",
    "df['Date'] = df['Date'].dt.year\n",
    "\n",
    "returns = df.iloc[:, 1:].values\n",
    "\n",
    "returns.shape"
   ]
  },
  {
   "cell_type": "code",
   "execution_count": 81,
   "metadata": {},
   "outputs": [
    {
     "name": "stdout",
     "output_type": "stream",
     "text": [
      "         Date       AFL       ALB       AOS       APD       ATO      BF-B  \\\n",
      "0  2019-04-30  0.000000  0.000000  0.005697  0.000000  0.000000  0.000000   \n",
      "1  2019-05-31  0.061754 -0.129861 -0.137943  0.062696  0.034610 -0.007661   \n",
      "2  2019-06-30 -0.001308 -0.060248 -0.099959  0.015404 -0.035360  0.004204   \n",
      "3  2019-07-31  0.083411  0.109020  0.074772  0.101781  0.091962  0.075822   \n",
      "4  2019-08-31 -0.068754 -0.106192  0.007844 -0.011407  0.024453  0.015788   \n",
      "..        ...       ...       ...       ...       ...       ...       ...   \n",
      "56 2023-12-31 -0.071808  0.032437 -0.007239 -0.079157 -0.055705 -0.095771   \n",
      "57 2024-01-31  0.068636 -0.032398  0.065853  0.029002  0.053147  0.011789   \n",
      "58 2024-02-29 -0.031164 -0.044094  0.018249 -0.119484  0.011406  0.058247   \n",
      "59 2024-03-31 -0.008801 -0.020646  0.008947  0.001131 -0.042056 -0.113978   \n",
      "60 2024-04-30  0.079868  0.061353  0.086303  0.057102  0.088624 -0.002228   \n",
      "\n",
      "         BRO      CHRW      CINF  ...       PPG       ROP      SPGI       SWK  \\\n",
      "0   0.000000  0.000000  0.000000  ...  0.000000  0.001895  0.000000  0.000000   \n",
      "1   0.058255 -0.068678  0.119294  ... -0.023280  0.026343  0.012587 -0.028984   \n",
      "2  -0.030851 -0.043053  0.004646  ... -0.028872 -0.035119 -0.017163 -0.038494   \n",
      "3   0.141504  0.087907  0.105721  ...  0.088898  0.099211  0.133626  0.114479   \n",
      "4   0.027036 -0.008073  0.019908  ... -0.047465 -0.050647  0.072960 -0.072350   \n",
      "..       ...       ...       ...  ...       ...       ...       ...       ...   \n",
      "56 -0.082355 -0.037694 -0.048789  ...  0.020308 -0.036670 -0.005022  0.000135   \n",
      "57  0.078336  0.065041  0.112950  ...  0.030536  0.050635  0.072578  0.042844   \n",
      "58  0.119541 -0.120697  0.038047  ...  0.001313  0.030436  0.012086 -0.049673   \n",
      "59 -0.019465 -0.065739  0.004149  ... -0.062620 -0.058061 -0.088284 -0.020218   \n",
      "60  0.053166  0.045040  0.092133  ...  0.042809  0.059337  0.073083  0.087710   \n",
      "\n",
      "         SYY       TGT      TROW       WMT       WST       XOM  \n",
      "0   0.008106  0.000000  0.000000  0.000000  0.001860  0.000000  \n",
      "1   0.083559 -0.039245 -0.002600  0.025811  0.041163 -0.045728  \n",
      "2  -0.089328  0.075084 -0.029692  0.003120 -0.041318 -0.064884  \n",
      "3   0.071417  0.077502  0.111870  0.110237  0.116020  0.074963  \n",
      "4   0.010777  0.052050 -0.025931 -0.016169  0.131375 -0.067404  \n",
      "..       ...       ...       ...       ...       ...       ...  \n",
      "56 -0.023414  0.050743  0.018083 -0.111461 -0.054851 -0.110549  \n",
      "57  0.092304  0.072284  0.091048  0.098133  0.050251  0.045432  \n",
      "58  0.077895  0.081149  0.026465  0.085771  0.099134  0.059572  \n",
      "59 -0.060294  0.062318  0.020003 -0.007720 -0.063800  0.003858  \n",
      "60  0.047636  0.089038  0.057350  0.071554  0.090937  0.176563  \n",
      "\n",
      "[61 rows x 41 columns]\n"
     ]
    }
   ],
   "source": [
    "# g_i = 총 수익률 정의\n",
    "\n",
    "g_i = pd.read_excel(\"total_returns.xlsx\")\n",
    "print(g_i)"
   ]
  },
  {
   "cell_type": "code",
   "execution_count": 82,
   "metadata": {},
   "outputs": [
    {
     "name": "stdout",
     "output_type": "stream",
     "text": [
      "['AFL', 'ALB', 'AOS', 'APD', 'ATO', 'BF-B', 'BRO', 'CHRW', 'CINF', 'CL', 'CLX', 'CVX', 'DOV', 'ESS', 'EXPD', 'FRT', 'GWW', 'HRL', 'IBM', 'ITW', 'JNJ', 'KMB', 'KO', 'LOW', 'MKC', 'MMM', 'NUE', 'NVDA', 'O', 'PNR', 'PPG', 'ROP', 'SPGI', 'SWK', 'SYY', 'TGT', 'TROW', 'WMT', 'WST', 'XOM']\n"
     ]
    }
   ],
   "source": [
    "# 종목 이름을 원소로 갖는 List 생성\n",
    "stocks = []\n",
    "for i in range(len(g_i.columns)-1):\n",
    "    stocks.append(g_i.columns[i+1])\n",
    "print(stocks)"
   ]
  },
  {
   "cell_type": "code",
   "execution_count": 83,
   "metadata": {},
   "outputs": [],
   "source": [
    "# 1개년 별로 데이터 분리\n",
    "g_i['Date'] = pd.to_datetime(g_i['Date'])\n",
    "\n",
    "g_i_2019 = g_i.loc[0:11]\n",
    "g_i_2020 = g_i.loc[12:23]\n",
    "g_i_2021 = g_i.loc[24:35]\n",
    "g_i_2022 = g_i.loc[36:47]\n",
    "g_i_2023 = g_i.loc[48:59]\n",
    "\n",
    "# 공분산 계산\n",
    "cov_2019 = g_i_2019.drop(\"Date\", axis = 1).cov()\n",
    "cov_2020 = g_i_2020.drop(\"Date\", axis = 1).cov()\n",
    "cov_2021 = g_i_2021.drop(\"Date\", axis = 1).cov()\n",
    "cov_2022 = g_i_2022.drop(\"Date\", axis = 1).cov()\n",
    "cov_2023 = g_i_2023.drop(\"Date\", axis = 1).cov()\n",
    "\n",
    "# 시그마_P 정의\n",
    "def sigma(*args, year):\n",
    "    weights = []\n",
    "    for i in args:\n",
    "        weights.append(i)\n",
    "    weights = np.array(weights)\n",
    "    if year == 2019:\n",
    "        risk = np.sqrt(np.dot(weights.T, np.dot(cov_2019, weights)))\n",
    "    elif year == 2020:\n",
    "        risk = np.sqrt(np.dot(weights.T, np.dot(cov_2020, weights)))\n",
    "    elif year == 2021:\n",
    "        risk = np.sqrt(np.dot(weights.T, np.dot(cov_2021, weights)))\n",
    "    elif year == 2022:\n",
    "        risk = np.sqrt(np.dot(weights.T, np.dot(cov_2022, weights)))\n",
    "    elif year == 2023:\n",
    "        risk = np.sqrt(np.dot(weights.T, np.dot(cov_2023, weights)))\n",
    "    else:\n",
    "        print(\"\\\"연도 입력이 잘못되었습니다. 2019 - 2023 년 사이의 연도 입력\\\"\")\n",
    "        risk = \"error\"\n",
    "    return(risk)"
   ]
  },
  {
   "cell_type": "code",
   "execution_count": 84,
   "metadata": {},
   "outputs": [],
   "source": [
    "\n",
    "def R_P(weights , returns , year):\n",
    "    portfolio_returns = returns @ weights\n",
    "\n",
    "    # 'Date'와 'R_p'를 포함한 결과 데이터프레임 생성\n",
    "    result_df = pd.DataFrame({\n",
    "        'Date': df['Date'],\n",
    "        'R_p': portfolio_returns\n",
    "    })\n",
    "    R_p_year =result_df['R_p'][year-2019]\n",
    "       \n",
    "    return R_p_year"
   ]
  },
  {
   "cell_type": "code",
   "execution_count": 85,
   "metadata": {},
   "outputs": [],
   "source": [
    "# 샤프 지수 계산 함수\n",
    "def sharpe_ratio(weights, returns, year, R_f):\n",
    "    R_p = R_P(weights, returns, year)\n",
    "    sigma_p = sigma(*weights, year = year)\n",
    "    sharpe = (R_p - R_f) / sigma_p\n",
    "    return sharpe"
   ]
  },
  {
   "cell_type": "markdown",
   "metadata": {},
   "source": [
    "# 임의 weight 지정"
   ]
  },
  {
   "cell_type": "code",
   "execution_count": 86,
   "metadata": {},
   "outputs": [
    {
     "data": {
      "text/plain": [
       "array([0.        , 0.        , 0.        , 0.        , 0.        ,\n",
       "       0.        , 0.01958326, 0.        , 0.        , 0.        ,\n",
       "       0.        , 0.        , 0.        , 0.        , 0.        ,\n",
       "       0.        , 0.        , 0.        , 0.        , 0.        ,\n",
       "       0.        , 0.        , 0.        , 0.        , 0.26968627,\n",
       "       0.23230837, 0.        , 0.        , 0.17880532, 0.        ,\n",
       "       0.        , 0.        , 0.        , 0.        , 0.29961678,\n",
       "       0.        , 0.        , 0.        , 0.        , 0.        ])"
      ]
     },
     "execution_count": 86,
     "metadata": {},
     "output_type": "execute_result"
    }
   ],
   "source": [
    "import numpy as np\n",
    "\n",
    "# 전체 배열 길이\n",
    "length = 40\n",
    "\n",
    "# 5개의 무작위 인덱스를 선택\n",
    "indices = np.random.choice(length, 5, replace=False)\n",
    "\n",
    "# 5개의 값의 합이 1이 되도록 랜덤하게 생성\n",
    "values = np.random.rand(5)\n",
    "values /= values.sum()\n",
    "\n",
    "# 길이 40의 배열 생성 및 값 할당\n",
    "random_data = np.zeros(length)\n",
    "random_data[indices] = values\n",
    "\n",
    "weights = random_data\n",
    "weights"
   ]
  },
  {
   "cell_type": "markdown",
   "metadata": {},
   "source": [
    "# 함수 출력 예시"
   ]
  },
  {
   "cell_type": "code",
   "execution_count": 87,
   "metadata": {},
   "outputs": [
    {
     "name": "stdout",
     "output_type": "stream",
     "text": [
      "2019년도의 Sigma_P:  0.0642604325405773\n",
      "\n",
      "2020년도의 Sigma_P:  0.09110327811571034\n",
      "\n",
      "2021년도의 Sigma_P:  0.07360293604134868\n",
      "\n",
      "2022년도의 Sigma_P:  0.10244361927042303\n",
      "\n",
      "2023년도의 Sigma_P:  0.08270227990482981\n",
      "\"연도 입력이 잘못되었습니다. 2019 - 2023 년 사이의 연도 입력\"\n"
     ]
    }
   ],
   "source": [
    "# 합이 1이 되도록 하는 40개 원소를 가진 Random Weight 생성\n",
    "random_data = np.random.rand(40)\n",
    "weights = random_data/random_data.sum()\n",
    "\n",
    "# 2019년도의 risk 계산\n",
    "risk_2019 = sigma(*weights, year = 2019)\n",
    "print(\"2019년도의 Sigma_P: \", risk_2019)\n",
    "\n",
    "# 2020년도의 risk 계산\n",
    "risk_2020 = sigma(*weights, year = 2020)\n",
    "print(\"\\n2020년도의 Sigma_P: \", risk_2020)\n",
    "\n",
    "# 2021년도의 risk 계산\n",
    "risk_2021 = sigma(*weights, year = 2021)\n",
    "print(\"\\n2021년도의 Sigma_P: \", risk_2021)\n",
    "\n",
    "# 2022년도의 risk 계산\n",
    "risk_2022 = sigma(*weights, year = 2022)\n",
    "print(\"\\n2022년도의 Sigma_P: \", risk_2022)\n",
    "\n",
    "# 2023년도의 risk 계산\n",
    "risk_2023 = sigma(*weights, year = 2023)\n",
    "print(\"\\n2023년도의 Sigma_P: \", risk_2023)\n",
    "\n",
    "# 그 외의 년도 입력시\n",
    "risk_2018 = sigma(*weights, year = 2018)"
   ]
  },
  {
   "cell_type": "code",
   "execution_count": 88,
   "metadata": {},
   "outputs": [
    {
     "data": {
      "text/plain": [
       "-0.0018855972512294016"
      ]
     },
     "execution_count": 88,
     "metadata": {},
     "output_type": "execute_result"
    }
   ],
   "source": [
    "R_P(weights , returns , 2019)"
   ]
  },
  {
   "cell_type": "code",
   "execution_count": 89,
   "metadata": {},
   "outputs": [],
   "source": [
    "R_f = 0.01"
   ]
  },
  {
   "cell_type": "code",
   "execution_count": 90,
   "metadata": {},
   "outputs": [
    {
     "name": "stdout",
     "output_type": "stream",
     "text": [
      "-0.18495980779034177\n",
      "0.33981491036552824\n",
      "0.06739829209034004\n",
      "-0.0903652140642488\n",
      "-0.028128496845000222\n"
     ]
    }
   ],
   "source": [
    "print(sharpe_ratio(weights, returns, 2019, R_f))\n",
    "print(sharpe_ratio(weights, returns, 2020, R_f))\n",
    "print(sharpe_ratio(weights, returns, 2021, R_f))\n",
    "print(sharpe_ratio(weights, returns, 2022, R_f))\n",
    "print(sharpe_ratio(weights, returns, 2023, R_f))"
   ]
  },
  {
   "cell_type": "markdown",
   "metadata": {},
   "source": [
    "# 유전자 시각화"
   ]
  },
  {
   "cell_type": "code",
   "execution_count": 91,
   "metadata": {},
   "outputs": [
    {
     "name": "stdout",
     "output_type": "stream",
     "text": [
      "Population head 1 :\n",
      " [[19715.66234825]\n",
      " [ 2036.22389708]\n",
      " [32310.11623313]\n",
      " [17588.41485234]\n",
      " [34268.24335853]]\n",
      "Total Sum: 1000000.0\n",
      "Population head 2 :\n",
      " [[40593.66111131]\n",
      " [28712.94182269]\n",
      " [20471.64902687]\n",
      " [20917.32645934]\n",
      " [ 3533.46157646]]\n",
      "Total Sum: 1000000.0000000001\n",
      "Population head 3 :\n",
      " [[18318.9203713 ]\n",
      " [34171.45076224]\n",
      " [12054.25283395]\n",
      " [16005.47197744]\n",
      " [21055.42338512]]\n",
      "Total Sum: 1000000.0000000001\n"
     ]
    },
    {
     "data": {
      "image/png": "[encoded data removed]",
      "text/plain": [
       "<Figure size 1000x800 with 2 Axes>"
      ]
     },
     "metadata": {},
     "output_type": "display_data"
    },
    {
     "name": "stdout",
     "output_type": "stream",
     "text": [
      "(50, 40, 1)\n"
     ]
    }
   ],
   "source": [
    "# 초기 유전 알고리즘 파라미터 설정\n",
    "population_size = 50\n",
    "mutation_rate = 0.1\n",
    "budget = 1000000 #가정\n",
    "\n",
    "# population 배열 생성\n",
    "population = np.zeros((population_size, 40, 1))\n",
    "\n",
    "for i in range(population_size):\n",
    "    # 전체 합이 예산만큼 크기를 가지도록 매트릭스 생성\n",
    "    initial_sol = np.random.rand(40, 1)\n",
    "    total_sum = np.sum(initial_sol)\n",
    "    initial_sol = initial_sol * budget / total_sum\n",
    "    population[i] = initial_sol\n",
    "    \n",
    "    \n",
    "# 만들어진 population 출력 (예시로 처음 3개 세대만 출력)\n",
    "for i in range(3):\n",
    "    print(\"Population head\", i+1, \":\\n\", population[i][:5])\n",
    "    print(\"Total Sum:\", np.sum(population[i]))\n",
    "\n",
    "\n",
    "import matplotlib.pyplot as plt\n",
    "import seaborn as sns\n",
    "npopulation=np.array(population[0], float)\n",
    "# 히트맵 생성\n",
    "plt.figure(figsize=(10, 8))\n",
    "sns.heatmap(npopulation, cmap='RdBu', vmin=npopulation.min(), vmax=npopulation.max())\n",
    "plt.title('Heatmap of npopulation')\n",
    "plt.xlabel('Column')\n",
    "plt.ylabel('Row')\n",
    "plt.show()\n",
    "\n",
    "print(population.shape)\n"
   ]
  },
  {
   "cell_type": "markdown",
   "metadata": {},
   "source": [
    "# 알고즘에서 차원문제 때문에 차원변환 필요"
   ]
  },
  {
   "cell_type": "code",
   "execution_count": 96,
   "metadata": {},
   "outputs": [
    {
     "data": {
      "text/plain": [
       "(40, 1)"
      ]
     },
     "execution_count": 96,
     "metadata": {},
     "output_type": "execute_result"
    }
   ],
   "source": [
    "population[0].shape"
   ]
  },
  {
   "cell_type": "code",
   "execution_count": 98,
   "metadata": {},
   "outputs": [
    {
     "data": {
      "text/plain": [
       "(40,)"
      ]
     },
     "execution_count": 98,
     "metadata": {},
     "output_type": "execute_result"
    }
   ],
   "source": [
    "weights.shape"
   ]
  },
  {
   "cell_type": "markdown",
   "metadata": {},
   "source": [
    "#유전알고리즘 시작"
   ]
  },
  {
   "cell_type": "code",
   "execution_count": 99,
   "metadata": {},
   "outputs": [
    {
     "name": "stderr",
     "output_type": "stream",
     "text": [
      "100%|██████████| 20000/20000 [03:49<00:00, 87.05it/s]"
     ]
    },
    {
     "name": "stdout",
     "output_type": "stream",
     "text": [
      "Optimal Solution head: [[7.86315915e-209]\n",
      " [7.97185629e-104]\n",
      " [8.31909524e-135]\n",
      " [1.71975662e-049]\n",
      " [1.52817372e-046]]\n",
      "Optimal Sharpe Ratio: 0.34409023496539\n"
     ]
    },
    {
     "name": "stderr",
     "output_type": "stream",
     "text": [
      "\n"
     ]
    }
   ],
   "source": [
    "from tqdm import tqdm  # TQDM 라이브러리 임포트\n",
    "\n",
    "# 초기 유전 알고리즘 파라미터 설정\n",
    "population_size = 50\n",
    "mutation_rate = 0.1\n",
    "budget = 1000000 #가정\n",
    "num_generations = 20000\n",
    "\n",
    "# population 배열 생성\n",
    "population = np.zeros((population_size, 40, 1))\n",
    "\n",
    "for i in range(population_size):\n",
    "    # 전체 합이 예산만큼 크기를 가지도록 매트릭스 생성\n",
    "    initial_sol = np.random.rand(40, 1)\n",
    "    total_sum = np.sum(initial_sol)\n",
    "    initial_sol = initial_sol * budget / total_sum\n",
    "    population[i] = initial_sol\n",
    "\n",
    "# 유전 알고리즘\n",
    "\n",
    "for generation in tqdm(range(num_generations)):\n",
    "    # 각 염색체의 샤프 지수 계산\n",
    "    fitness_scores = [sharpe_ratio(weights.reshape(-1), returns, 2019, R_f) for weights in population]\n",
    "\n",
    "    # 새로운 세대 생성\n",
    "    new_population = []\n",
    "    for _ in range(100):\n",
    "        # 부모 선택 (토너먼트 선택)\n",
    "        parent1 = random.choice(population)\n",
    "        parent2 = random.choice(population)\n",
    "\n",
    "        # 교차 지점 선택\n",
    "        crossover_point = np.random.randint(0, parent1.shape[0])\n",
    "\n",
    "        # 부모로부터 자식 생성\n",
    "        child = np.concatenate((parent1[:crossover_point], parent2[crossover_point:]), axis=0)\n",
    "\n",
    "        # 정규화: 합이 budget이 되도록\n",
    "        child = child / np.sum(child) * budget\n",
    "\n",
    "        # 돌연변이\n",
    "        if random.random() < mutation_rate:\n",
    "            mutation_point =  np.random.randint(0, parent1.shape[0])\n",
    "            child[mutation_point] = random.random()\n",
    "            child /= np.sum(child) * budget  # 정규화\n",
    "\n",
    "\n",
    "\n",
    "        new_population.append(child)\n",
    "\n",
    "    population = new_population\n",
    "\n",
    "# 최적 해 출력\n",
    "best_solution_index = np.argmax(fitness_scores)\n",
    "best_solution = population[best_solution_index]\n",
    "best_sharpe_ratio = fitness_scores[best_solution_index]\n",
    "print(\"Optimal Solution head:\", best_solution[:5])\n",
    "print(\"Optimal Sharpe Ratio:\", best_sharpe_ratio)"
   ]
  },
  {
   "cell_type": "code",
   "execution_count": 100,
   "metadata": {},
   "outputs": [
    {
     "name": "stdout",
     "output_type": "stream",
     "text": [
      "(40, 1)\n",
      "1000000.0\n"
     ]
    }
   ],
   "source": [
    "print(np.array(best_solution, float).shape)\n",
    "print(np.sum(np.array(best_solution, float)))"
   ]
  },
  {
   "cell_type": "code",
   "execution_count": 101,
   "metadata": {},
   "outputs": [
    {
     "data": {
      "image/png": "[encoded data removed]",
      "text/plain": [
       "<Figure size 1000x800 with 2 Axes>"
      ]
     },
     "metadata": {},
     "output_type": "display_data"
    }
   ],
   "source": [
    "import numpy as np\n",
    "import matplotlib.pyplot as plt\n",
    "import seaborn as sns\n",
    "bestsol=np.array(best_solution, float)\n",
    "# 히트맵 생성\n",
    "plt.figure(figsize=(10, 8))\n",
    "sns.heatmap(bestsol, cmap='RdBu', vmin=bestsol.min(), vmax=bestsol.max())\n",
    "plt.title('Heatmap of bestsol')\n",
    "plt.xlabel('Column')\n",
    "plt.ylabel('Row')\n",
    "plt.show()"
   ]
  },
  {
   "cell_type": "code",
   "execution_count": null,
   "metadata": {},
   "outputs": [],
   "source": []
  }
 ],
 "metadata": {
  "kernelspec": {
   "display_name": "exercise1",
   "language": "python",
   "name": "python3"
  },
  "language_info": {
   "codemirror_mode": {
    "name": "ipython",
    "version": 3
   },
   "file_extension": ".py",
   "mimetype": "text/x-python",
   "name": "python",
   "nbconvert_exporter": "python",
   "pygments_lexer": "ipython3",
   "version": "3.8.18"
  }
 },
 "nbformat": 4,
 "nbformat_minor": 2
}
