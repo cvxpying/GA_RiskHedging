{
 "cells": [
  {
   "cell_type": "code",
   "execution_count": 1,
   "metadata": {},
   "outputs": [],
   "source": [
    "import pandas as pd\n",
    "from datetime import datetime\n",
    "import glob\n",
    "import os\n",
    "\n",
    "\n",
    "# 엑셀 파일들이 저장된 폴더 경로\n",
    "folder_path = r'C:\\Users\\82103\\Desktop\\YONSEI\\2024-1\\OR확정모델\\프로젝트\\dividends'  \n",
    "\n",
    "# 폴더 내의 모든 CSV 파일을 찾기\n",
    "\n",
    "csv_files = glob.glob(os.path.join(folder_path, '*.csv'))\n",
    "\n",
    "# 파일 이름을 키로, 데이터프레임을 값으로 하는 딕셔너리 생성\n",
    "dict = {}\n",
    "\n",
    "for file in csv_files:\n",
    "    try:\n",
    "        # 파일 이름에서 확장자 제거하여 변수 이름으로 사용\n",
    "        file_name = os.path.splitext(os.path.basename(file))[0]\n",
    "        df = pd.read_csv(file)\n",
    "        dict[file_name] = df\n",
    "    except Exception as e:\n",
    "        print(f\"Error reading {file}: {e}\")"
   ]
  },
  {
   "cell_type": "markdown",
   "metadata": {},
   "source": [
    "자료를 정리할 DF 생성"
   ]
  },
  {
   "cell_type": "code",
   "execution_count": 2,
   "metadata": {},
   "outputs": [
    {
     "data": {
      "text/html": [
       "<div>\n",
       "<style scoped>\n",
       "    .dataframe tbody tr th:only-of-type {\n",
       "        vertical-align: middle;\n",
       "    }\n",
       "\n",
       "    .dataframe tbody tr th {\n",
       "        vertical-align: top;\n",
       "    }\n",
       "\n",
       "    .dataframe thead th {\n",
       "        text-align: right;\n",
       "    }\n",
       "</style>\n",
       "<table border=\"1\" class=\"dataframe\">\n",
       "  <thead>\n",
       "    <tr style=\"text-align: right;\">\n",
       "      <th></th>\n",
       "      <th>Date</th>\n",
       "    </tr>\n",
       "  </thead>\n",
       "  <tbody>\n",
       "    <tr>\n",
       "      <th>0</th>\n",
       "      <td>2019-01</td>\n",
       "    </tr>\n",
       "    <tr>\n",
       "      <th>1</th>\n",
       "      <td>2019-02</td>\n",
       "    </tr>\n",
       "    <tr>\n",
       "      <th>2</th>\n",
       "      <td>2019-03</td>\n",
       "    </tr>\n",
       "    <tr>\n",
       "      <th>3</th>\n",
       "      <td>2019-04</td>\n",
       "    </tr>\n",
       "    <tr>\n",
       "      <th>4</th>\n",
       "      <td>2019-05</td>\n",
       "    </tr>\n",
       "    <tr>\n",
       "      <th>...</th>\n",
       "      <td>...</td>\n",
       "    </tr>\n",
       "    <tr>\n",
       "      <th>58</th>\n",
       "      <td>2023-11</td>\n",
       "    </tr>\n",
       "    <tr>\n",
       "      <th>59</th>\n",
       "      <td>2023-12</td>\n",
       "    </tr>\n",
       "    <tr>\n",
       "      <th>60</th>\n",
       "      <td>2024-01</td>\n",
       "    </tr>\n",
       "    <tr>\n",
       "      <th>61</th>\n",
       "      <td>2024-02</td>\n",
       "    </tr>\n",
       "    <tr>\n",
       "      <th>62</th>\n",
       "      <td>2024-03</td>\n",
       "    </tr>\n",
       "  </tbody>\n",
       "</table>\n",
       "<p>63 rows × 1 columns</p>\n",
       "</div>"
      ],
      "text/plain": [
       "       Date\n",
       "0   2019-01\n",
       "1   2019-02\n",
       "2   2019-03\n",
       "3   2019-04\n",
       "4   2019-05\n",
       "..      ...\n",
       "58  2023-11\n",
       "59  2023-12\n",
       "60  2024-01\n",
       "61  2024-02\n",
       "62  2024-03\n",
       "\n",
       "[63 rows x 1 columns]"
      ]
     },
     "execution_count": 2,
     "metadata": {},
     "output_type": "execute_result"
    }
   ],
   "source": [
    "date_range = pd.date_range(start='2019-01', end='2024-04', freq='M')\n",
    "date_strings = date_range.strftime('%Y-%m')\n",
    "df = pd.DataFrame(date_strings, columns=['Date'])\n",
    "df"
   ]
  },
  {
   "cell_type": "code",
   "execution_count": 10,
   "metadata": {},
   "outputs": [
    {
     "name": "stdout",
     "output_type": "stream",
     "text": [
      "       Date   AFL    ALB   AOS   APD    ATO    BFB   BRO  CHRW  CINF  ...  \\\n",
      "0   2019-01  0.00  0.000  0.22  0.00  0.000  0.000  0.00  0.00  0.00  ...   \n",
      "1   2019-02  0.27  0.000  0.00  0.00  0.525  0.000  0.08  0.50  0.00  ...   \n",
      "2   2019-03  0.00  0.368  0.00  1.16  0.000  0.166  0.00  0.00  0.56  ...   \n",
      "3   2019-04  0.00  0.000  0.22  0.00  0.000  0.000  0.00  0.00  0.00  ...   \n",
      "4   2019-05  0.27  0.000  0.00  0.00  0.525  0.000  0.08  0.00  0.00  ...   \n",
      "..      ...   ...    ...   ...   ...    ...    ...   ...   ...   ...  ...   \n",
      "63  2023-11  0.42  0.000  0.00  0.00  0.805  0.218  0.00  0.61  0.00  ...   \n",
      "64  2023-12  0.00  0.400  0.00  1.75  0.000  0.000  0.00  0.00  0.75  ...   \n",
      "65  2024-01  0.00  0.000  0.32  0.00  0.000  0.000  0.00  0.00  0.00  ...   \n",
      "66  2024-02  0.50  0.000  0.00  0.00  0.805  0.000  0.13  0.61  0.00  ...   \n",
      "67  2024-03  0.00  0.400  0.00  1.77  0.000  0.218  0.00  0.00  0.81  ...   \n",
      "\n",
      "     PPG    ROP  SPGI   SWK   SYY   TGT  TROW       WMT   WST   XOM  \n",
      "0   0.00  0.463  0.00  0.00  0.39  0.00  0.00  0.000000  0.15  0.00  \n",
      "1   0.48  0.000  0.57  0.00  0.00  0.64  0.00  0.000000  0.00  0.82  \n",
      "2   0.00  0.000  0.00  0.66  0.00  0.00  0.76  0.176667  0.00  0.00  \n",
      "3   0.00  0.463  0.00  0.00  0.39  0.00  0.00  0.000000  0.15  0.00  \n",
      "4   0.48  0.000  0.57  0.00  0.00  0.64  0.00  0.176667  0.00  0.87  \n",
      "..   ...    ...   ...   ...   ...   ...   ...       ...   ...   ...  \n",
      "63  0.65  0.000  0.90  0.81  0.00  1.10  0.00  0.000000  0.20  0.95  \n",
      "64  0.00  0.000  0.00  0.00  0.00  0.00  1.22  0.190000  0.00  0.00  \n",
      "65  0.00  0.750  0.00  0.00  0.50  0.00  0.00  0.000000  0.20  0.00  \n",
      "66  0.65  0.000  0.91  0.00  0.00  1.10  0.00  0.000000  0.00  0.95  \n",
      "67  0.00  0.000  0.00  0.81  0.00  0.00  1.24  0.208000  0.00  0.00  \n",
      "\n",
      "[68 rows x 41 columns]\n"
     ]
    }
   ],
   "source": [
    "for key in dict:\n",
    "    a = dict[key]\n",
    "    a = a.rename(columns = {'Dividends' : key.replace(\"_d\", \"\")})\n",
    "    \n",
    "    a[\"Date\"] = pd.to_datetime(a[\"Date\"])\n",
    "    a[\"Date\"] = a[\"Date\"].dt.strftime('%Y-%m')\n",
    "   \n",
    "    date_list = []\n",
    "    for i in a[\"Date\"]:\n",
    "        date_str = i\n",
    "        date_obj = datetime.strptime(date_str, \"%Y-%m\")\n",
    "        if datetime(date_obj.year, date_obj.month, 1) >= datetime(2019, 1, 1):\n",
    "            date_list.append(i)\n",
    "\n",
    "    filtered_df = a[a['Date'].isin(date_list)]\n",
    "    \n",
    "    merged_df = pd.merge(df, filtered_df, on = \"Date\", how = \"left\")\n",
    "    merged_df.fillna(0, inplace = True)\n",
    "    df = merged_df\n",
    "    \n",
    "print(df)"
   ]
  },
  {
   "cell_type": "markdown",
   "metadata": {},
   "source": [
    "파일에 저장하기"
   ]
  },
  {
   "cell_type": "code",
   "execution_count": 11,
   "metadata": {},
   "outputs": [],
   "source": [
    "df.to_csv('dividends_찐.csv', index=False)"
   ]
  }
 ],
 "metadata": {
  "kernelspec": {
   "display_name": "base",
   "language": "python",
   "name": "python3"
  },
  "language_info": {
   "codemirror_mode": {
    "name": "ipython",
    "version": 3
   },
   "file_extension": ".py",
   "mimetype": "text/x-python",
   "name": "python",
   "nbconvert_exporter": "python",
   "pygments_lexer": "ipython3",
   "version": "3.11.7"
  }
 },
 "nbformat": 4,
 "nbformat_minor": 2
}
